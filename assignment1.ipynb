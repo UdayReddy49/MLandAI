{
 "cells": [
  {
   "cell_type": "code",
   "execution_count": 1,
   "metadata": {},
   "outputs": [
    {
     "name": "stdout",
     "output_type": "stream",
     "text": [
      "24\n",
      "The equivalent binary number is 11000\n"
     ]
    }
   ],
   "source": [
    "def dtob(n):\n",
    "    x=bin(n)\n",
    "    x=x[2:]\n",
    "    print(\"The equivalent binary number is\",x)\n",
    "y=int(input())\n",
    "dtob(y)"
   ]
  },
  {
   "cell_type": "code",
   "execution_count": 2,
   "metadata": {},
   "outputs": [
    {
     "name": "stdout",
     "output_type": "stream",
     "text": [
      "4\n",
      "0\n",
      "1\n",
      "1\n",
      "2\n"
     ]
    }
   ],
   "source": [
    "n = int(input())\n",
    "n1 = 0\n",
    "n2 = 1\n",
    "c = 0\n",
    "if n<0:\n",
    "    print(\"enter a positive number\")\n",
    "elif n == 0:\n",
    "    print(n1)\n",
    "else:\n",
    "    while (c < n):\n",
    "        print(n1)\n",
    "        nth = n1 + n2\n",
    "        n1=n2\n",
    "        n2 = nth\n",
    "        c += 1"
   ]
  },
  {
   "cell_type": "code",
   "execution_count": 3,
   "metadata": {},
   "outputs": [
    {
     "name": "stdout",
     "output_type": "stream",
     "text": [
      "enter no of rows5\n",
      "* \n",
      "* * \n",
      "* * * \n",
      "* * * * \n",
      "* * * * * \n"
     ]
    }
   ],
   "source": [
    "n=int(input(\"enter no of rows\"))\n",
    "row=0\n",
    "while row<n:\n",
    "    star= row+1\n",
    "    while star>0:\n",
    "        print(\"*\",end=\" \")\n",
    "        star = star - 1\n",
    "    row=row+1\n",
    "    print()\n"
   ]
  },
  {
   "cell_type": "code",
   "execution_count": 32,
   "metadata": {},
   "outputs": [
    {
     "name": "stdout",
     "output_type": "stream",
     "text": [
      "Enter the value of a5\n",
      "Enter the value of b7\n",
      "Enter the value of c4\n",
      "No Roots\n"
     ]
    }
   ],
   "source": [
    "a=int(input(\"Enter the value of a\"))\n",
    "b=int(input(\"Enter the value of b\"))\n",
    "c=int(input(\"Enter the value of c\"))\n",
    "r= (b * b) - ( 4 * a * c)\n",
    "if r > 0:\n",
    "    x1=(((-b) + sqrt(r)/(2*a) ))\n",
    "    x2=(((-b) - sqrt(r)/(2*a) ))\n",
    "    print(\"The roots are\",x1,x2)\n",
    "elif r == 0:\n",
    "    x=(-b)/(2*a)\n",
    "    print(\"The root is \",x)\n",
    "else:\n",
    "    print(\"No Roots\")"
   ]
  },
  {
   "cell_type": "code",
   "execution_count": 36,
   "metadata": {},
   "outputs": [
    {
     "name": "stdout",
     "output_type": "stream",
     "text": [
      "Enter a number25\n",
      "25 x 1 = 25\n",
      "25 x 2 = 50\n",
      "25 x 3 = 75\n",
      "25 x 4 = 100\n",
      "25 x 5 = 125\n",
      "25 x 6 = 150\n",
      "25 x 7 = 175\n",
      "25 x 8 = 200\n",
      "25 x 9 = 225\n",
      "25 x 10 = 250\n"
     ]
    }
   ],
   "source": [
    "k = int(input(\"Enter a number\"))\n",
    "for i in range(1,11):\n",
    "    print(k,\"x\",i,\"=\", k * i)"
   ]
  }
 ],
 "metadata": {
  "kernelspec": {
   "display_name": "Python 3",
   "language": "python",
   "name": "python3"
  },
  "language_info": {
   "codemirror_mode": {
    "name": "ipython",
    "version": 3
   },
   "file_extension": ".py",
   "mimetype": "text/x-python",
   "name": "python",
   "nbconvert_exporter": "python",
   "pygments_lexer": "ipython3",
   "version": "3.7.4"
  }
 },
 "nbformat": 4,
 "nbformat_minor": 2
}
